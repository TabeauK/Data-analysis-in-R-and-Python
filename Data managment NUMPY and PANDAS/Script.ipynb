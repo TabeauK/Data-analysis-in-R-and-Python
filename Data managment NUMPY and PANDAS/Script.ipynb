{
 "cells": [
  {
   "cell_type": "markdown",
   "metadata": {
    "collapsed": true,
    "pycharm": {
     "name": "#%% md\n"
    }
   },
   "source": [
    "# Praca domowa 4\n",
    "### Krzysztof Tabeau\n"
   ]
  },
  {
   "cell_type": "markdown",
   "source": [
    "Wstęp:"
   ],
   "metadata": {
    "collapsed": false
   }
  },
  {
   "cell_type": "markdown",
   "source": [
    "W poniższym raporcie są zamieszczone wyniki 3 zapytań\n",
    "rozwiązanych na dwa sposoby. Pierwszym z nich jest skorzystanie z funkcji  pandas.read_sql_query(),\n",
    "która interpretuje zapytanie napisane w SQL, a drugą użycie funkcji bazowych, funkcji z biblioteki numpy oraz pandas do przetwarzania danych.\n",
    "Następnie będzie pokazany typ wyników za pomocą funkcji oraz sprawdzenie równoważności rozwiązania funkcją equals()."
   ],
   "metadata": {
    "collapsed": false,
    "pycharm": {
     "name": "#%% md\n"
    }
   }
  },
  {
   "cell_type": "markdown",
   "source": [
    "#### 0. Import bibliotek oraz danych i stworzenie bazy danych"
   ],
   "metadata": {
    "collapsed": false,
    "pycharm": {
     "name": "#%% md\n"
    }
   }
  },
  {
   "cell_type": "code",
   "execution_count": 325,
   "outputs": [],
   "source": [
    "import pandas as pd\n",
    "import numpy as np\n",
    "import os, os.path\n",
    "import tempfile, sqlite3\n",
    "import copy\n",
    "tempfile.mkdtemp()\n",
    "\n",
    "pd.set_option(\"display.notebook_repr_html\", True)\n",
    "Badges = pd.read_csv(\"http://www.gagolewski.com/resources/data/travel_stackexchange_com/Badges.csv.gz\",compression = \"gzip\")\n",
    "Comments = pd.read_csv(\"http://www.gagolewski.com/resources/data/travel_stackexchange_com/Comments.csv.gz\",compression = \"gzip\")\n",
    "PostLinks = pd.read_csv(\"http://www.gagolewski.com/resources/data/travel_stackexchange_com/PostLinks.csv.gz\",compression = \"gzip\")\n",
    "Posts = pd.read_csv(\"http://www.gagolewski.com/resources/data/travel_stackexchange_com/Posts.csv.gz\",compression = \"gzip\")\n",
    "Tags = pd.read_csv(\"http://www.gagolewski.com/resources/data/travel_stackexchange_com/Tags.csv.gz\",compression = \"gzip\")\n",
    "Users = pd.read_csv(\"http://www.gagolewski.com/resources/data/travel_stackexchange_com/Users.csv.gz\",compression = \"gzip\")\n",
    "Votes = pd.read_csv(\"http://www.gagolewski.com/resources/data/travel_stackexchange_com/Votes.csv.gz\",compression = \"gzip\")\n",
    "\n",
    "baza = os.path.join(tempfile.mkdtemp(), \"travel.db\")\n",
    "if os.path.isfile(baza):\n",
    "    os.remove(baza)\n",
    "\n",
    "conn = sqlite3.connect(baza)\n",
    "\n",
    "Badges.to_sql(\"Badges\", conn, if_exists=\"replace\")\n",
    "Comments.to_sql(\"Comments\", conn, if_exists=\"replace\")\n",
    "PostLinks.to_sql(\"PostLinks\", conn, if_exists=\"replace\")\n",
    "Posts.to_sql(\"Posts\", conn, if_exists=\"replace\")\n",
    "Tags.to_sql(\"Tags\", conn, if_exists=\"replace\")\n",
    "Users.to_sql(\"Users\", conn, if_exists=\"replace\")\n",
    "Votes.to_sql(\"Votes\", conn, if_exists=\"replace\")"
   ],
   "metadata": {
    "collapsed": false,
    "pycharm": {
     "name": "#%%\n"
    }
   }
  },
  {
   "cell_type": "markdown",
   "source": [
    "#### 1. Zapytanie zwraca pytanie i jego największą liczbę łapek w górę jaką dostał w jednym roku oraz informacje w którym to było roku"
   ],
   "metadata": {
    "collapsed": false,
    "pycharm": {
     "name": "#%% md\n"
    }
   }
  },
  {
   "cell_type": "markdown",
   "source": [
    "##### 1.1 Zapytanie za pomocą pandas.read_sql_query"
   ],
   "metadata": {
    "collapsed": false,
    "pycharm": {
     "name": "#%% md\n"
    }
   }
  },
  {
   "cell_type": "code",
   "execution_count": 326,
   "outputs": [
    {
     "name": "stdout",
     "output_type": "stream",
     "text": [
      "                                               Title  Year  Count\n",
      "0  OK we're all adults here, so really, how on ea...  2011     70\n",
      "1    How to successfully haggle / bargain in markets  2012     37\n",
      "2  Why are airline passengers asked to lift up wi...  2013    103\n",
      "3  How do you know if Americans genuinely/literal...  2014    180\n",
      "4  Immigration officer that stopped me at the air...  2015    119\n",
      "5  I don't know my nationality. How can I visit D...  2016    135\n",
      "6                       Why prohibit engine braking?  2017    178\n"
     ]
    }
   ],
   "source": [
    "result1 = pd.read_sql_query(\"\"\"\n",
    "                            SELECT\n",
    "                                Posts.Title,\n",
    "                                UpVotesPerYear.Year,\n",
    "                                MAX(UpVotesPerYear.Count) AS Count\n",
    "                            FROM (\n",
    "                                SELECT\n",
    "                                    PostId,\n",
    "                                    COUNT(*) AS Count,\n",
    "                                    STRFTIME('%Y', Votes.CreationDate) AS Year\n",
    "                                FROM Votes\n",
    "                                WHERE VoteTypeId=2\n",
    "                                GROUP BY PostId, Year\n",
    "                            ) AS UpVotesPerYear\n",
    "                            JOIN Posts ON Posts.Id=UpVotesPerYear.PostId\n",
    "                            WHERE Posts.PostTypeId=1\n",
    "                            GROUP BY Year\n",
    "                    \"\"\", conn)\n",
    "\n",
    "print(result1)"
   ],
   "metadata": {
    "collapsed": false,
    "pycharm": {
     "name": "#%%\n"
    }
   }
  },
  {
   "cell_type": "markdown",
   "source": [
    "##### 1.2 Zapytanie za pomocą zwykłych funkcji"
   ],
   "metadata": {
    "collapsed": false,
    "pycharm": {
     "name": "#%% md\n"
    }
   }
  },
  {
   "cell_type": "code",
   "execution_count": 327,
   "outputs": [
    {
     "name": "stdout",
     "output_type": "stream",
     "text": [
      "                                               Title  Year  Count\n",
      "0  OK we're all adults here, so really, how on ea...  2011     70\n",
      "1    How to successfully haggle / bargain in markets  2012     37\n",
      "2  Why are airline passengers asked to lift up wi...  2013    103\n",
      "3  How do you know if Americans genuinely/literal...  2014    180\n",
      "4  Immigration officer that stopped me at the air...  2015    119\n",
      "5  I don't know my nationality. How can I visit D...  2016    135\n",
      "6                       Why prohibit engine braking?  2017    178\n"
     ]
    }
   ],
   "source": [
    "UpVotesPerYear = copy.deepcopy(Votes)\n",
    "UpVotesPerYear[\"CreationDate\"] = pd.to_datetime(UpVotesPerYear.CreationDate).dt.strftime(\"%Y\")\n",
    "UpVotesPerYear = UpVotesPerYear\\\n",
    "    .rename(columns = {\"CreationDate\":\"Year\"})\\\n",
    "    .loc[UpVotesPerYear.VoteTypeId == 2, [\"PostId\",\"Year\"]]\\\n",
    "    .groupby([\"PostId\",\"Year\"])\\\n",
    "    .size()\\\n",
    "    .reset_index()\\\n",
    "    .rename(columns = {0:\"Count\"})\n",
    "\n",
    "Posts2 = copy.deepcopy(Posts)\n",
    "Posts2 = Posts2\\\n",
    "    .rename(columns = {\"Id\":\"PostId\"})\\\n",
    "    .loc[Posts2.PostTypeId == 1]\n",
    "Result = UpVotesPerYear\\\n",
    "    .merge(Posts2, on=\"PostId\")[[\"Title\",\"Year\",\"Count\"]]\n",
    "Result = Result\\\n",
    "    .groupby([\"Year\"])[\"Count\"]\\\n",
    "    .agg(np.max)\\\n",
    "    .reset_index()\\\n",
    "    .merge(Result, on=[\"Year\",\"Count\"])\n",
    "result2 = Result[[\"Title\",\"Year\",\"Count\"]]\n",
    "print(result2)"
   ],
   "metadata": {
    "collapsed": false,
    "pycharm": {
     "name": "#%%\n"
    }
   }
  },
  {
   "cell_type": "markdown",
   "source": [
    "##### 1.3 Sprawdzenie typów wyników"
   ],
   "metadata": {
    "collapsed": false
   }
  },
  {
   "cell_type": "code",
   "execution_count": 328,
   "outputs": [
    {
     "name": "stdout",
     "output_type": "stream",
     "text": [
      "<class 'pandas.core.frame.DataFrame'>\n",
      "RangeIndex: 7 entries, 0 to 6\n",
      "Data columns (total 3 columns):\n",
      " #   Column  Non-Null Count  Dtype \n",
      "---  ------  --------------  ----- \n",
      " 0   Title   7 non-null      object\n",
      " 1   Year    7 non-null      object\n",
      " 2   Count   7 non-null      int64 \n",
      "dtypes: int64(1), object(2)\n",
      "memory usage: 296.0+ bytes\n",
      "None\n"
     ]
    }
   ],
   "source": [
    "print(result1.info())"
   ],
   "metadata": {
    "collapsed": false,
    "pycharm": {
     "name": "#%%\n"
    }
   }
  },
  {
   "cell_type": "code",
   "execution_count": 329,
   "outputs": [
    {
     "name": "stdout",
     "output_type": "stream",
     "text": [
      "<class 'pandas.core.frame.DataFrame'>\n",
      "Int64Index: 7 entries, 0 to 6\n",
      "Data columns (total 3 columns):\n",
      " #   Column  Non-Null Count  Dtype \n",
      "---  ------  --------------  ----- \n",
      " 0   Title   7 non-null      object\n",
      " 1   Year    7 non-null      object\n",
      " 2   Count   7 non-null      int64 \n",
      "dtypes: int64(1), object(2)\n",
      "memory usage: 224.0+ bytes\n",
      "None\n"
     ]
    }
   ],
   "source": [
    "print(result2.info())"
   ],
   "metadata": {
    "collapsed": false,
    "pycharm": {
     "name": "#%%\n"
    }
   }
  },
  {
   "cell_type": "markdown",
   "source": [
    "##### 1.4 Sprawdzenie równoważności wyników"
   ],
   "metadata": {
    "collapsed": false
   }
  },
  {
   "cell_type": "code",
   "execution_count": 330,
   "outputs": [
    {
     "name": "stdout",
     "output_type": "stream",
     "text": [
      "True\n"
     ]
    }
   ],
   "source": [
    "print(result1.equals(result2))"
   ],
   "metadata": {
    "collapsed": false,
    "pycharm": {
     "name": "#%%\n"
    }
   }
  },
  {
   "cell_type": "markdown",
   "source": [
    "#### 2. Zapytanie zwraca id, tytuł i liczbę pozytywnych odpowiedzi pytań z największą liczbą pozytywnych odpowiedzi"
   ],
   "metadata": {
    "collapsed": false
   }
  },
  {
   "cell_type": "markdown",
   "source": [
    "##### 2.1 Zapytanie za pomocą pandas.read_sql_query"
   ],
   "metadata": {
    "collapsed": false
   }
  },
  {
   "cell_type": "code",
   "execution_count": 331,
   "outputs": [
    {
     "name": "stdout",
     "output_type": "stream",
     "text": [
      "      Id                                              Title  \\\n",
      "0    250  Which European cities have bike rental station...   \n",
      "1     10  When traveling to a country with a different c...   \n",
      "2  13562    How do you choose a restaurant when travelling?   \n",
      "3  48775  How can I deal with people asking to switch se...   \n",
      "4   3220        Why would you wrap your luggage in plastic?   \n",
      "5  43660  Traveling in Europe Solo - 18 years old. Feasi...   \n",
      "6  30656                      Long-life SIM cards in Europe   \n",
      "7   7663         Am I expected to tip wait staff in Europe?   \n",
      "8  59128  Is there a way to prevent \"looking like a tour...   \n",
      "9  60446  Is it rude to ask if the food contains pork or...   \n",
      "\n",
      "   PositiveAnswerCount  \n",
      "0                   24  \n",
      "1                   20  \n",
      "2                   20  \n",
      "3                   20  \n",
      "4                   19  \n",
      "5                   19  \n",
      "6                   18  \n",
      "7                   17  \n",
      "8                   17  \n",
      "9                   17  \n"
     ]
    }
   ],
   "source": [
    "result1 = pd.read_sql_query(\"\"\"\n",
    "                            SELECT\n",
    "                                Posts.ID,\n",
    "                                Posts.Title,\n",
    "                                Posts2.PositiveAnswerCount\n",
    "                            FROM Posts\n",
    "                            JOIN (\n",
    "                                SELECT\n",
    "                                Posts.ParentID,\n",
    "                                COUNT(*) AS PositiveAnswerCount\n",
    "                                FROM Posts\n",
    "                                WHERE Posts.PostTypeID=2 AND Posts.Score>0\n",
    "                                GROUP BY Posts.ParentID\n",
    "                            ) AS Posts2\n",
    "                            ON Posts.ID=Posts2.ParentID\n",
    "                            ORDER BY Posts2.PositiveAnswerCount DESC\n",
    "                            LIMIT 10\n",
    "                    \"\"\", conn)\n",
    "\n",
    "print(result1)"
   ],
   "metadata": {
    "collapsed": false,
    "pycharm": {
     "name": "#%%\n"
    }
   }
  },
  {
   "cell_type": "markdown",
   "source": [
    "##### 2.2 Zapytanie za pomocą zwykłych funkcji"
   ],
   "metadata": {
    "collapsed": false
   }
  },
  {
   "cell_type": "code",
   "execution_count": 332,
   "outputs": [
    {
     "name": "stdout",
     "output_type": "stream",
     "text": [
      "      Id                                              Title  \\\n",
      "0    250  Which European cities have bike rental station...   \n",
      "1     10  When traveling to a country with a different c...   \n",
      "2  13562    How do you choose a restaurant when travelling?   \n",
      "3  48775  How can I deal with people asking to switch se...   \n",
      "4   3220        Why would you wrap your luggage in plastic?   \n",
      "5  43660  Traveling in Europe Solo - 18 years old. Feasi...   \n",
      "6  30656                      Long-life SIM cards in Europe   \n",
      "7   7663         Am I expected to tip wait staff in Europe?   \n",
      "8  59128  Is there a way to prevent \"looking like a tour...   \n",
      "9  60446  Is it rude to ask if the food contains pork or...   \n",
      "\n",
      "   PositiveAnswerCount  \n",
      "0                   24  \n",
      "1                   20  \n",
      "2                   20  \n",
      "3                   20  \n",
      "4                   19  \n",
      "5                   19  \n",
      "6                   18  \n",
      "7                   17  \n",
      "8                   17  \n",
      "9                   17  \n"
     ]
    }
   ],
   "source": [
    "Posts2 = copy.deepcopy(Posts)\n",
    "Posts2 = Posts2\\\n",
    "    .loc[(Posts2.PostTypeId == 2) & (Posts2.Score > 0)]\\\n",
    "    .groupby([\"ParentId\"])\\\n",
    "    .size()\\\n",
    "    .reset_index()\\\n",
    "    .rename(columns = {0:\"PositiveAnswerCount\", \"ParentId\":\"Id\"})\\\n",
    "    .merge(Posts, on=\"Id\")[[\"Id\",\"Title\",\"PositiveAnswerCount\"]]\\\n",
    "    .sort_values([\"PositiveAnswerCount\",\"Id\"], ascending=[False,True])\\\n",
    "    .head(10)\\\n",
    "    .reset_index(drop = True)\n",
    "Posts2[\"Id\"] = Posts2[\"Id\"].astype(np.int64)\n",
    "result2 = Posts2\n",
    "print(result2)"
   ],
   "metadata": {
    "collapsed": false,
    "pycharm": {
     "name": "#%%\n"
    }
   }
  },
  {
   "cell_type": "markdown",
   "source": [
    "##### 2.3 Sprawdzenie typów wyników"
   ],
   "metadata": {
    "collapsed": false
   }
  },
  {
   "cell_type": "code",
   "execution_count": 333,
   "outputs": [
    {
     "name": "stdout",
     "output_type": "stream",
     "text": [
      "<class 'pandas.core.frame.DataFrame'>\n",
      "RangeIndex: 10 entries, 0 to 9\n",
      "Data columns (total 3 columns):\n",
      " #   Column               Non-Null Count  Dtype \n",
      "---  ------               --------------  ----- \n",
      " 0   Id                   10 non-null     int64 \n",
      " 1   Title                10 non-null     object\n",
      " 2   PositiveAnswerCount  10 non-null     int64 \n",
      "dtypes: int64(2), object(1)\n",
      "memory usage: 368.0+ bytes\n",
      "None\n"
     ]
    }
   ],
   "source": [
    "print(result1.info())"
   ],
   "metadata": {
    "collapsed": false,
    "pycharm": {
     "name": "#%%\n"
    }
   }
  },
  {
   "cell_type": "code",
   "source": [
    "print(result2.info())"
   ],
   "metadata": {
    "collapsed": false,
    "pycharm": {
     "name": "#%%\n"
    }
   },
   "execution_count": 334,
   "outputs": [
    {
     "name": "stdout",
     "output_type": "stream",
     "text": [
      "<class 'pandas.core.frame.DataFrame'>\n",
      "RangeIndex: 10 entries, 0 to 9\n",
      "Data columns (total 3 columns):\n",
      " #   Column               Non-Null Count  Dtype \n",
      "---  ------               --------------  ----- \n",
      " 0   Id                   10 non-null     int64 \n",
      " 1   Title                10 non-null     object\n",
      " 2   PositiveAnswerCount  10 non-null     int64 \n",
      "dtypes: int64(2), object(1)\n",
      "memory usage: 368.0+ bytes\n",
      "None\n"
     ]
    }
   ]
  },
  {
   "cell_type": "markdown",
   "source": [
    "##### 2.4 Sprawdzenie równoważności wyników"
   ],
   "metadata": {
    "collapsed": false,
    "pycharm": {
     "name": "#%% md\n"
    }
   }
  },
  {
   "cell_type": "code",
   "execution_count": 335,
   "outputs": [
    {
     "name": "stdout",
     "output_type": "stream",
     "text": [
      "True\n"
     ]
    }
   ],
   "source": [
    "print(result1.equals(result2))"
   ],
   "metadata": {
    "collapsed": false,
    "pycharm": {
     "name": "#%%\n"
    }
   }
  },
  {
   "cell_type": "markdown",
   "source": [
    "#### 3. Zapytanie zwraca informację, które są dostępne, o użytkownikach (id, nick, reputacja, wiek, lokacja), którzy mają 2 - 10 odznak pierwszej klasy."
   ],
   "metadata": {
    "collapsed": false
   }
  },
  {
   "cell_type": "markdown",
   "source": [
    "##### 3.1 Zapytanie za pomocą pandas.read_sql_query"
   ],
   "metadata": {
    "collapsed": false
   }
  },
  {
   "cell_type": "code",
   "execution_count": 336,
   "outputs": [
    {
     "name": "stdout",
     "output_type": "stream",
     "text": [
      "      Id         DisplayName  Reputation   Age  \\\n",
      "0    108      Ankur Banerjee       31273  27.0   \n",
      "1     19               VMAtm       18556  33.0   \n",
      "2    101           Mark Mayo      121667  37.0   \n",
      "3    466      iHaveacomputer        8360   NaN   \n",
      "4    793       mindcorrosive       10531  32.0   \n",
      "5    693  RoflcoptrException       33300   NaN   \n",
      "6   6669             Relaxed       69405   NaN   \n",
      "7   1737           Gayot Fow       70237   NaN   \n",
      "8  39065                Pont        1004   NaN   \n",
      "9  19400               phoog       34342  50.0   \n",
      "\n",
      "                             Location  \n",
      "0                          London, UK  \n",
      "1            Tampa, FL, United States  \n",
      "2  Sydney, New South Wales, Australia  \n",
      "3                        Down underer  \n",
      "4                            Bulgaria  \n",
      "5                                None  \n",
      "6                                None  \n",
      "7              London, United Kingdom  \n",
      "8                             Austria  \n",
      "9                        New York, NY  \n"
     ]
    }
   ],
   "source": [
    "result1 = pd.read_sql_query(\"\"\"\n",
    "                            SELECT DISTINCT\n",
    "                                Users.Id,\n",
    "                                Users.DisplayName,\n",
    "                                Users.Reputation,\n",
    "                                Users.Age,\n",
    "                                Users.Location\n",
    "                            FROM (\n",
    "                                SELECT\n",
    "                                    Name, UserID\n",
    "                                    FROM Badges\n",
    "                                WHERE Name IN (\n",
    "                                    SELECT\n",
    "                                        Name\n",
    "                                    FROM Badges\n",
    "                                    WHERE Class=1\n",
    "                                    GROUP BY Name\n",
    "                                    HAVING COUNT(*) BETWEEN 2 AND 10\n",
    "                                )\n",
    "                                AND Class=1\n",
    "                            ) AS ValuableBadges\n",
    "                            JOIN Users ON ValuableBadges.UserId=Users.Id\n",
    "                    \"\"\", conn)\n",
    "\n",
    "print(result1)"
   ],
   "metadata": {
    "collapsed": false,
    "pycharm": {
     "name": "#%%\n"
    }
   }
  },
  {
   "cell_type": "markdown",
   "source": [
    "##### 3.2 Zapytanie za pomocą zwykłych funkcji"
   ],
   "metadata": {
    "collapsed": false
   }
  },
  {
   "cell_type": "code",
   "execution_count": 337,
   "outputs": [
    {
     "name": "stdout",
     "output_type": "stream",
     "text": [
      "      Id         DisplayName  Reputation   Age  \\\n",
      "0    108      Ankur Banerjee       31273  27.0   \n",
      "1     19               VMAtm       18556  33.0   \n",
      "2    101           Mark Mayo      121667  37.0   \n",
      "3    466      iHaveacomputer        8360   NaN   \n",
      "4    793       mindcorrosive       10531  32.0   \n",
      "5    693  RoflcoptrException       33300   NaN   \n",
      "6   6669             Relaxed       69405   NaN   \n",
      "7   1737           Gayot Fow       70237   NaN   \n",
      "8  39065                Pont        1004   NaN   \n",
      "9  19400               phoog       34342  50.0   \n",
      "\n",
      "                             Location  \n",
      "0                          London, UK  \n",
      "1            Tampa, FL, United States  \n",
      "2  Sydney, New South Wales, Australia  \n",
      "3                        Down underer  \n",
      "4                            Bulgaria  \n",
      "5                                 NaN  \n",
      "6                                 NaN  \n",
      "7              London, United Kingdom  \n",
      "8                             Austria  \n",
      "9                        New York, NY  \n"
     ]
    }
   ],
   "source": [
    "Names = copy.deepcopy(Badges)\n",
    "Names = Names\\\n",
    "    .loc[Names.Class == 1]\\\n",
    "    .groupby([\"Name\"])\\\n",
    "    .size()\\\n",
    "    .reset_index()\\\n",
    "    .rename(columns = {0:\"Count\"})\n",
    "Names = Names\\\n",
    "    .loc[Names.Count.between(2,10)]\\\n",
    "    .reset_index(drop = True)\n",
    "\n",
    "Names = Names.Name.to_list()\n",
    "\n",
    "ValuableBadges = copy.deepcopy(Badges)\n",
    "result2 = ValuableBadges.loc[(ValuableBadges.Class == 1) & (ValuableBadges.Name.isin(Names)),[\"Name\",\"UserId\"]]\\\n",
    "    .reset_index(drop = True)\\\n",
    "    .rename(columns = {\"UserId\":\"Id\"})\\\n",
    "    .merge(Users, on = \"Id\")[[\"Id\",\"DisplayName\",\"Reputation\",\"Age\",\"Location\"]]\\\n",
    "    .drop_duplicates()\\\n",
    "    .reset_index(drop = True)\n",
    "\n",
    "print(result2)"
   ],
   "metadata": {
    "collapsed": false,
    "pycharm": {
     "name": "#%%\n"
    }
   }
  },
  {
   "cell_type": "markdown",
   "source": [
    "##### 3.3 Sprawdzenie typów wyników"
   ],
   "metadata": {
    "collapsed": false
   }
  },
  {
   "cell_type": "code",
   "execution_count": 338,
   "outputs": [
    {
     "name": "stdout",
     "output_type": "stream",
     "text": [
      "<class 'pandas.core.frame.DataFrame'>\n",
      "RangeIndex: 10 entries, 0 to 9\n",
      "Data columns (total 5 columns):\n",
      " #   Column       Non-Null Count  Dtype  \n",
      "---  ------       --------------  -----  \n",
      " 0   Id           10 non-null     int64  \n",
      " 1   DisplayName  10 non-null     object \n",
      " 2   Reputation   10 non-null     int64  \n",
      " 3   Age          5 non-null      float64\n",
      " 4   Location     8 non-null      object \n",
      "dtypes: float64(1), int64(2), object(2)\n",
      "memory usage: 528.0+ bytes\n",
      "None\n"
     ]
    }
   ],
   "source": [
    "print(result1.info())"
   ],
   "metadata": {
    "collapsed": false,
    "pycharm": {
     "name": "#%%\n"
    }
   }
  },
  {
   "cell_type": "code",
   "execution_count": 339,
   "outputs": [
    {
     "name": "stdout",
     "output_type": "stream",
     "text": [
      "<class 'pandas.core.frame.DataFrame'>\n",
      "RangeIndex: 10 entries, 0 to 9\n",
      "Data columns (total 5 columns):\n",
      " #   Column       Non-Null Count  Dtype  \n",
      "---  ------       --------------  -----  \n",
      " 0   Id           10 non-null     int64  \n",
      " 1   DisplayName  10 non-null     object \n",
      " 2   Reputation   10 non-null     int64  \n",
      " 3   Age          5 non-null      float64\n",
      " 4   Location     8 non-null      object \n",
      "dtypes: float64(1), int64(2), object(2)\n",
      "memory usage: 528.0+ bytes\n",
      "None\n"
     ]
    }
   ],
   "source": [
    "print(result2.info())"
   ],
   "metadata": {
    "collapsed": false,
    "pycharm": {
     "name": "#%%\n"
    }
   }
  },
  {
   "cell_type": "markdown",
   "source": [
    "##### 3.4 Sprawdzenie równoważności wyników"
   ],
   "metadata": {
    "collapsed": false
   }
  },
  {
   "cell_type": "code",
   "execution_count": 340,
   "outputs": [
    {
     "name": "stdout",
     "output_type": "stream",
     "text": [
      "True\n"
     ]
    }
   ],
   "source": [
    "print(result1.equals(result2))"
   ],
   "metadata": {
    "collapsed": false,
    "pycharm": {
     "name": "#%%\n"
    }
   }
  },
  {
   "cell_type": "markdown",
   "source": [
    "## Koniec"
   ],
   "metadata": {
    "collapsed": false,
    "pycharm": {
     "name": "#%% md\n"
    }
   }
  }
 ],
 "metadata": {
  "kernelspec": {
   "name": "python3",
   "language": "python",
   "display_name": "Python 3"
  },
  "language_info": {
   "codemirror_mode": {
    "name": "ipython",
    "version": 2
   },
   "file_extension": ".py",
   "mimetype": "text/x-python",
   "name": "python",
   "nbconvert_exporter": "python",
   "pygments_lexer": "ipython2",
   "version": "2.7.6"
  }
 },
 "nbformat": 4,
 "nbformat_minor": 0
}